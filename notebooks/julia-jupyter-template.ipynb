{
 "cells": [
  {
   "cell_type": "markdown",
   "metadata": {
    "slideshow": {
     "slide_type": "slide"
    }
   },
   "source": [
    "<table align=\"left\">\n",
    "    <tr>\n",
    "        <td bgcolor=\"#FFFFFF\">\n",
    "            <img src=\"img/scca_data_science_logo.png\" width=\"20%\" align=\"left\">\n",
    "        </td>\n",
    "    </tr>\n",
    "    <tr>\n",
    "        <td>\n",
    "            <p align=\"left\">\n",
    "                <font size=\"4\">\n",
    "                    <b>SCCA Data Science</b>\n",
    "                </font>\n",
    "            </p> \n",
    "        </td>\n",
    "    </tr>\n",
    "</table>\n"
   ]
  },
  {
   "cell_type": "markdown",
   "metadata": {
    "slideshow": {
     "slide_type": "slide"
    }
   },
   "source": [
    "<img src=\"img/kraken.jpeg\" width=\"5%\" align=\"left\">\n",
    "\n",
    "# Project Name"
   ]
  },
  {
   "cell_type": "markdown",
   "metadata": {
    "slideshow": {
     "slide_type": "slide"
    }
   },
   "source": [
    "## Overview\n"
   ]
  },
  {
   "cell_type": "markdown",
   "metadata": {
    "slideshow": {
     "slide_type": "slide"
    }
   },
   "source": [
    "## Ad Hoc Request\n"
   ]
  },
  {
   "cell_type": "markdown",
   "metadata": {
    "slideshow": {
     "slide_type": "slide"
    }
   },
   "source": [
    "### Requester\n",
    "- FirstName Lastname, Credentials\n",
    "    - email:  \n",
    "    - role:   \n",
    "    - office: \n",
    "    \n",
    "### Data Science PM\n",
    "- Assigned to:\n",
    "    - FirstName, LastName\n",
    "    - email: user@seattlecca.org\n",
    "    - role: Data Scientist"
   ]
  },
  {
   "cell_type": "markdown",
   "metadata": {},
   "source": [
    "### Deliverables\n",
    "\n"
   ]
  },
  {
   "cell_type": "markdown",
   "metadata": {
    "slideshow": {
     "slide_type": "slide"
    }
   },
   "source": [
    "## Research\n",
    " \n",
    "\n",
    "### Reference\n"
   ]
  },
  {
   "cell_type": "markdown",
   "metadata": {},
   "source": [
    "## Jupyter Config"
   ]
  },
  {
   "cell_type": "code",
   "execution_count": null,
   "metadata": {
    "scrolled": true,
    "slideshow": {
     "slide_type": "skip"
    }
   },
   "outputs": [],
   "source": [
    "# Expand cell width to 100% browser width for Jupyter notebook\n",
    "display(\"text/html\", \"<style>.container { width:100% !important; }</style>\")"
   ]
  },
  {
   "cell_type": "markdown",
   "metadata": {
    "slideshow": {
     "slide_type": "skip"
    }
   },
   "source": [
    "<img src=\"img/julia.png\" width=\"10%\" align=\"left\">\n",
    "\n",
    "## Julia Environment Configuration"
   ]
  },
  {
   "cell_type": "code",
   "execution_count": null,
   "metadata": {
    "scrolled": false,
    "slideshow": {
     "slide_type": "skip"
    }
   },
   "outputs": [],
   "source": [
    "using Pkg;"
   ]
  },
  {
   "cell_type": "code",
   "execution_count": null,
   "metadata": {
    "scrolled": false,
    "slideshow": {
     "slide_type": "skip"
    }
   },
   "outputs": [],
   "source": [
    "Pkg.activate(\"../\")"
   ]
  },
  {
   "cell_type": "code",
   "execution_count": null,
   "metadata": {
    "scrolled": true,
    "slideshow": {
     "slide_type": "skip"
    }
   },
   "outputs": [],
   "source": [
    "Pkg.status()"
   ]
  },
  {
   "cell_type": "code",
   "execution_count": null,
   "metadata": {
    "scrolled": false,
    "slideshow": {
     "slide_type": "skip"
    }
   },
   "outputs": [],
   "source": [
    "using CSV;\n",
    "using AWSCore;\n",
    "using AWSSDK.S3;\n",
    "using StatsPlots;\n",
    "using DataFrames;"
   ]
  },
  {
   "cell_type": "code",
   "execution_count": null,
   "metadata": {
    "scrolled": true,
    "slideshow": {
     "slide_type": "skip"
    }
   },
   "outputs": [],
   "source": [
    "# Plotting Constant\n",
    "const plt = StatsPlots;"
   ]
  },
  {
   "cell_type": "code",
   "execution_count": null,
   "metadata": {
    "scrolled": false,
    "slideshow": {
     "slide_type": "skip"
    }
   },
   "outputs": [],
   "source": [
    "# Set plotting backend\n",
    "#pyplot();"
   ]
  },
  {
   "cell_type": "markdown",
   "metadata": {
    "slideshow": {
     "slide_type": "skip"
    }
   },
   "source": [
    "## Data Acquistion"
   ]
  },
  {
   "cell_type": "code",
   "execution_count": null,
   "metadata": {
    "scrolled": true,
    "slideshow": {
     "slide_type": "skip"
    }
   },
   "outputs": [],
   "source": [
    "# Config AWS Object & Crendentials\n",
    "aws = aws_config(region=\"us-west-2\");"
   ]
  },
  {
   "cell_type": "code",
   "execution_count": null,
   "metadata": {
    "scrolled": false,
    "slideshow": {
     "slide_type": "skip"
    }
   },
   "outputs": [],
   "source": [
    "# Project S3 Constants\n",
    "s3_bucket      = \"datascience-phi-adhoc\";\n",
    "project_name   = \"qa\";\n",
    "s3_inputdir    = \"/input/\";\n",
    "s3_outputdir   = \"/output/\";\n",
    "s3_processdir  = \"/processed/\";\n",
    "s3_output_ext  = \"-julia-output\";\n",
    "s3_file        = \"datasci-qa\";\n",
    "s3_filetype    = \"csv\";"
   ]
  },
  {
   "cell_type": "code",
   "execution_count": null,
   "metadata": {
    "scrolled": true,
    "slideshow": {
     "slide_type": "skip"
    }
   },
   "outputs": [],
   "source": [
    "# Read CSV from S3 Input and Load into DataFrame\n",
    "get_config = Dict{String, String}(\n",
    "    \"Bucket\"    => \"$(s3_bucket)\",\n",
    "    \"Key\"       => \"$(project_name)$(s3_inputdir)$(s3_file).$(s3_filetype)\")\n",
    "file_content = S3.get_object(aws, get_config);"
   ]
  },
  {
   "cell_type": "code",
   "execution_count": null,
   "metadata": {
    "scrolled": true,
    "slideshow": {
     "slide_type": "skip"
    }
   },
   "outputs": [],
   "source": [
    "# Read from AWS S3 file stream\n",
    "qa_df = CSV.File(IOBuffer(file_content)) |> DataFrame;"
   ]
  },
  {
   "cell_type": "markdown",
   "metadata": {
    "slideshow": {
     "slide_type": "skip"
    }
   },
   "source": [
    "## Data Engineering"
   ]
  },
  {
   "cell_type": "markdown",
   "metadata": {
    "slideshow": {
     "slide_type": "slide"
    },
    "tags": [
     "PHI"
    ]
   },
   "source": [
    "## EDA (Exploratory Data Analysis)"
   ]
  },
  {
   "cell_type": "code",
   "execution_count": null,
   "metadata": {
    "scrolled": false,
    "slideshow": {
     "slide_type": "skip"
    },
    "tags": [
     "PHI"
    ]
   },
   "outputs": [],
   "source": [
    "first(qa_df, 3)"
   ]
  },
  {
   "cell_type": "code",
   "execution_count": null,
   "metadata": {
    "scrolled": false,
    "slideshow": {
     "slide_type": "skip"
    }
   },
   "outputs": [],
   "source": [
    "last(qa_df, 3)"
   ]
  },
  {
   "cell_type": "code",
   "execution_count": null,
   "metadata": {
    "scrolled": true,
    "slideshow": {
     "slide_type": "skip"
    }
   },
   "outputs": [],
   "source": [
    "names(qa_df)"
   ]
  },
  {
   "cell_type": "code",
   "execution_count": null,
   "metadata": {
    "scrolled": false,
    "slideshow": {
     "slide_type": "skip"
    }
   },
   "outputs": [],
   "source": [
    "describe(qa_df)"
   ]
  },
  {
   "cell_type": "code",
   "execution_count": null,
   "metadata": {
    "scrolled": false,
    "slideshow": {
     "slide_type": "slide"
    }
   },
   "outputs": [],
   "source": [
    "# Shape of DataFrame\n",
    "df_size = size(qa_df)\n",
    "println(\"Rows: $(df_size[1]) \\nColumns: $(df_size[2])\")"
   ]
  },
  {
   "cell_type": "markdown",
   "metadata": {},
   "source": [
    "## Modeling"
   ]
  },
  {
   "cell_type": "markdown",
   "metadata": {},
   "source": [
    "# Output"
   ]
  },
  {
   "cell_type": "code",
   "execution_count": null,
   "metadata": {
    "scrolled": true
   },
   "outputs": [],
   "source": [
    "# Convert DataFrame to IO Stream\n",
    "io = IOBuffer()\n",
    "CSV.write(io, qa_df; delim='\\u2588')\n",
    "csv_string = String(take!(io));\n",
    "\n"
   ]
  },
  {
   "cell_type": "code",
   "execution_count": null,
   "metadata": {
    "scrolled": false
   },
   "outputs": [],
   "source": [
    "# Confirm CSV\n",
    "show(csv_string)"
   ]
  },
  {
   "cell_type": "code",
   "execution_count": null,
   "metadata": {},
   "outputs": [],
   "source": [
    "# Put CSV into S3 Output with TLS inflight and mandated AES256 at rest\n",
    "put_config = Dict{String, Any}(\n",
    "    \"Bucket\"    => \"$(s3_bucket)\",\n",
    "    \"Key\"       => \"$(project_name)$(s3_outputdir)$(s3_file)$(s3_output_ext).$(s3_filetype)\",\n",
    "    \"Body\"      => csv_string,\n",
    "    \"headers\"   => Dict{String, String}(\n",
    "        \"Content-Type\"                  => \"text/csv\",\n",
    "        \"x-amz-server-side-encryption\"  => \"AES256\"))\n",
    "S3.put_object(aws, put_config);"
   ]
  },
  {
   "cell_type": "code",
   "execution_count": null,
   "metadata": {
    "scrolled": true
   },
   "outputs": [],
   "source": [
    "# Get CSV Metadata\n",
    "meta_config = Dict{String, String}(\n",
    "    \"Bucket\"    => \"$(s3_bucket)\",\n",
    "    \"Key\"       => \"$(project_name)$(s3_outputdir)$(s3_file)$(s3_output_ext).$(s3_filetype)\")\n",
    "metadata = S3.head_object(aws, meta_config)\n",
    "println(\"Metadata: $metadata\")"
   ]
  }
 ],
 "metadata": {
  "celltoolbar": "Slideshow",
  "kernelspec": {
   "display_name": "Julia 1.0.2",
   "language": "julia",
   "name": "julia-1.0"
  },
  "language_info": {
   "file_extension": ".jl",
   "mimetype": "application/julia",
   "name": "julia",
   "version": "1.0.2"
  }
 },
 "nbformat": 4,
 "nbformat_minor": 2
}
