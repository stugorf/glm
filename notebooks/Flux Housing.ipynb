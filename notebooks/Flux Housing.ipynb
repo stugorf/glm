{
 "cells": [
  {
   "cell_type": "code",
   "execution_count": 2,
   "metadata": {},
   "outputs": [],
   "source": [
    "using Pkg;"
   ]
  },
  {
   "cell_type": "code",
   "execution_count": 3,
   "metadata": {},
   "outputs": [
    {
     "data": {
      "text/plain": [
       "\"/home/dhughes/myr/glm/Project.toml\""
      ]
     },
     "execution_count": 3,
     "metadata": {},
     "output_type": "execute_result"
    }
   ],
   "source": [
    "Pkg.activate(\"../\")"
   ]
  },
  {
   "cell_type": "code",
   "execution_count": 4,
   "metadata": {},
   "outputs": [
    {
     "name": "stdout",
     "output_type": "stream",
     "text": [
      "\u001b[32m\u001b[1m    Status\u001b[22m\u001b[39m `~/myr/glm/Project.toml`\n",
      " \u001b[90m [4f1ea46c]\u001b[39m\u001b[37m   AWSCore v0.6.0\u001b[39m\n",
      " \u001b[90m [0d499d91]\u001b[39m\u001b[37m   AWSSDK v0.4.0\u001b[39m\n",
      " \u001b[90m [336ed68f]\u001b[39m\u001b[37m   CSV v0.4.3\u001b[39m\n",
      " \u001b[90m [a93c6f00]\u001b[39m\u001b[37m   DataFrames v0.17.1\u001b[39m\n",
      " \u001b[90m [587475ba]\u001b[39m\u001b[92m + Flux v0.7.3\u001b[39m\n",
      " \u001b[90m [38e38edf]\u001b[39m\u001b[37m   GLM v1.1.1\u001b[39m\n",
      " \u001b[90m [ce6b1742]\u001b[39m\u001b[92m + RDatasets v0.6.1\u001b[39m\n",
      " \u001b[90m [f3b207a7]\u001b[39m\u001b[37m   StatsPlots v0.10.2\u001b[39m\n"
     ]
    }
   ],
   "source": [
    "Pkg.status()"
   ]
  },
  {
   "cell_type": "code",
   "execution_count": 7,
   "metadata": {},
   "outputs": [],
   "source": [
    "using CSV;\n",
    "using Flux;\n",
    "using RDatasets;\n",
    "using AWSCore;\n",
    "using AWSSDK.S3;\n",
    "using StatsPlots;\n",
    "using DataFrames;\n",
    "using Flux.Tracker, Statistics, DelimitedFiles\n",
    "using Flux.Tracker: Params, gradient, update!\n",
    "using Flux: gpu"
   ]
  },
  {
   "cell_type": "code",
   "execution_count": 1,
   "metadata": {},
   "outputs": [
    {
     "data": {
      "text/html": [
       "<style>.container { width:100% !important; }</style>"
      ]
     },
     "metadata": {},
     "output_type": "display_data"
    }
   ],
   "source": [
    "# Expand cell width to 100% browser width for Jupyter notebook\n",
    "display(\"text/html\", \"<style>.container { width:100% !important; }</style>\")"
   ]
  },
  {
   "cell_type": "code",
   "execution_count": 8,
   "metadata": {},
   "outputs": [
    {
     "data": {
      "text/plain": [
       "14×505 LinearAlgebra.Adjoint{Float64,Array{Float64,2}}:\n",
       "   0.02731    0.02729    0.03237  …    0.06076    0.10959    0.04741\n",
       "   0.0        0.0        0.0           0.0        0.0        0.0    \n",
       "   7.07       7.07       2.18         11.93      11.93      11.93   \n",
       "   0.0        0.0        0.0           0.0        0.0        0.0    \n",
       "   0.469      0.469      0.458         0.573      0.573      0.573  \n",
       "   6.421      7.185      6.998    …    6.976      6.794      6.03   \n",
       "  78.9       61.1       45.8          91.0       89.3       80.8    \n",
       "   4.9671     4.9671     6.0622        2.1675     2.3889     2.505  \n",
       "   2.0        2.0        3.0           1.0        1.0        1.0    \n",
       " 242.0      242.0      222.0         273.0      273.0      273.0    \n",
       "  17.8       17.8       18.7      …   21.0       21.0       21.0    \n",
       " 396.9      392.83     394.63        396.9      393.45     396.9    \n",
       "   9.14       4.03       2.94          5.64       6.48       7.88   \n",
       "  21.6       34.7       33.4          23.9       22.0       11.9    "
      ]
     },
     "execution_count": 8,
     "metadata": {},
     "output_type": "execute_result"
    }
   ],
   "source": [
    "cd(@__DIR__)\n",
    "\n",
    "isfile(\"housing.data\") ||\n",
    "  download(\"https://raw.githubusercontent.com/MikeInnes/notebooks/master/housing.data\",\n",
    "           \"housing.data\")\n",
    "\n",
    "rawdata = readdlm(\"housing.data\")'"
   ]
  },
  {
   "cell_type": "code",
   "execution_count": 19,
   "metadata": {},
   "outputs": [
    {
     "data": {
      "text/plain": [
       "1×505 Array{Float64,2}:\n",
       " 21.6  34.7  33.4  36.2  28.7  22.9  …  16.8  22.4  20.6  23.9  22.0  11.9"
      ]
     },
     "execution_count": 19,
     "metadata": {},
     "output_type": "execute_result"
    }
   ],
   "source": [
    "# The last feature is our target -- the price of the house.\n",
    "x = rawdata[1:13,:] |> gpu\n",
    "y = rawdata[14:14,:] |> gpu"
   ]
  },
  {
   "cell_type": "code",
   "execution_count": 20,
   "metadata": {},
   "outputs": [
    {
     "data": {
      "text/plain": [
       "13×505 Array{Float64,2}:\n",
       " -0.417416  -0.417418  -0.416828  …  -0.41353   -0.407858  -0.415081\n",
       " -0.486234  -0.486234  -0.486234     -0.486234  -0.486234  -0.486234\n",
       " -0.595732  -0.595732  -1.30899       0.11315    0.11315    0.11315 \n",
       " -0.272618  -0.272618  -0.272618     -0.272618  -0.272618  -0.272618\n",
       " -0.739098  -0.739098  -0.833934      0.15753    0.15753    0.15753 \n",
       "  0.194741   1.28121    1.01528   …   0.983996   0.725177  -0.361293\n",
       "  0.366208  -0.265527  -0.808535      0.795646   0.735312   0.433641\n",
       "  0.556346   0.556346   1.0759       -0.771891  -0.66685   -0.611768\n",
       " -0.868939  -0.868939  -0.754097     -0.983782  -0.983782  -0.983782\n",
       " -0.987128  -0.987128  -1.10573      -0.803294  -0.803294  -0.803294\n",
       " -0.306024  -0.306024   0.110158  …   1.17373    1.17373    1.17373 \n",
       "  0.441136   0.396591   0.416291      0.441136   0.403377   0.441136\n",
       " -0.494157  -1.20985   -1.36251      -0.984357  -0.866709  -0.670629"
      ]
     },
     "execution_count": 20,
     "metadata": {},
     "output_type": "execute_result"
    }
   ],
   "source": [
    "# Normalise the data\n",
    "x = (x .- mean(x, dims = 2)) ./ std(x, dims = 2)"
   ]
  },
  {
   "cell_type": "code",
   "execution_count": 21,
   "metadata": {},
   "outputs": [
    {
     "data": {
      "text/plain": [
       "loss (generic function with 1 method)"
      ]
     },
     "execution_count": 21,
     "metadata": {},
     "output_type": "execute_result"
    }
   ],
   "source": [
    "# The model\n",
    "\n",
    "W = param(randn(1,13)/10) |> gpu\n",
    "b = param([0.]) |> gpu\n",
    "\n",
    "predict(x) = W*x .+ b\n",
    "meansquarederror(ŷ, y) = sum((ŷ .- y).^2)/size(y, 2)\n",
    "loss(x, y) = meansquarederror(predict(x), y)"
   ]
  },
  {
   "cell_type": "code",
   "execution_count": 22,
   "metadata": {},
   "outputs": [
    {
     "name": "stdout",
     "output_type": "stream",
     "text": [
      "loss(x, y) = 366.7771712469101 (tracked)\n",
      "loss(x, y) = 241.6786942772334 (tracked)\n",
      "loss(x, y) = 162.90324261548662 (tracked)\n",
      "loss(x, y) = 112.69588372735977 (tracked)\n",
      "loss(x, y) = 80.62653266183862 (tracked)\n",
      "loss(x, y) = 60.11191125141034 (tracked)\n",
      "loss(x, y) = 46.96721934334417 (tracked)\n",
      "loss(x, y) = 38.52801177969454 (tracked)\n",
      "loss(x, y) = 33.09606636798708 (tracked)\n",
      "loss(x, y) = 29.588018136899038 (tracked)\n"
     ]
    }
   ],
   "source": [
    "η = 0.1\n",
    "θ = Params([W, b])\n",
    "\n",
    "for i = 1:10\n",
    "  g = gradient(() -> loss(x, y), θ)\n",
    "  for x in θ\n",
    "    update!(x, -g[x]*η)\n",
    "  end\n",
    "  @show loss(x, y)\n",
    "end"
   ]
  },
  {
   "cell_type": "code",
   "execution_count": 23,
   "metadata": {},
   "outputs": [
    {
     "data": {
      "text/plain": [
       "Tracked 1-element Array{Float64,1}:\n",
       " 1.0588200637999579"
      ]
     },
     "execution_count": 23,
     "metadata": {},
     "output_type": "execute_result"
    }
   ],
   "source": [
    "predict(x[:,1]) / y[1]"
   ]
  }
 ],
 "metadata": {
  "kernelspec": {
   "display_name": "Julia 1.0.2",
   "language": "julia",
   "name": "julia-1.0"
  },
  "language_info": {
   "file_extension": ".jl",
   "mimetype": "application/julia",
   "name": "julia",
   "version": "1.0.2"
  }
 },
 "nbformat": 4,
 "nbformat_minor": 2
}
