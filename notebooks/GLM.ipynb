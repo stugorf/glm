{
 "cells": [
  {
   "cell_type": "markdown",
   "metadata": {
    "slideshow": {
     "slide_type": "slide"
    }
   },
   "source": [
    "<table align=\"left\">\n",
    "    <tr>\n",
    "        <td bgcolor=\"#FFFFFF\">\n",
    "            <img src=\"img/scca_data_science_logo.png\" width=\"20%\" align=\"left\">\n",
    "        </td>\n",
    "    </tr>\n",
    "    <tr>\n",
    "        <td>\n",
    "            <p align=\"left\">\n",
    "                <font size=\"4\">\n",
    "                    <b>SCCA Data Science</b>\n",
    "                </font>\n",
    "            </p> \n",
    "        </td>\n",
    "    </tr>\n",
    "</table>\n"
   ]
  },
  {
   "cell_type": "markdown",
   "metadata": {
    "slideshow": {
     "slide_type": "slide"
    }
   },
   "source": [
    "<img src=\"img/kraken.jpeg\" width=\"5%\" align=\"left\">\n",
    "\n",
    "# GLM"
   ]
  },
  {
   "cell_type": "markdown",
   "metadata": {
    "slideshow": {
     "slide_type": "slide"
    }
   },
   "source": [
    "## Overview\n"
   ]
  },
  {
   "cell_type": "markdown",
   "metadata": {
    "slideshow": {
     "slide_type": "slide"
    }
   },
   "source": [
    "## Ad Hoc Request\n"
   ]
  },
  {
   "cell_type": "markdown",
   "metadata": {
    "slideshow": {
     "slide_type": "slide"
    }
   },
   "source": [
    "### Requester\n",
    "- FirstName Lastname, Credentials\n",
    "    - email:  \n",
    "    - role:   \n",
    "    - office: \n",
    "    \n",
    "### Data Science PM\n",
    "- Assigned to:\n",
    "    - FirstName, LastName\n",
    "    - email: user@seattlecca.org\n",
    "    - role: Data Scientist"
   ]
  },
  {
   "cell_type": "markdown",
   "metadata": {},
   "source": [
    "### Deliverables\n",
    "\n"
   ]
  },
  {
   "cell_type": "markdown",
   "metadata": {
    "slideshow": {
     "slide_type": "slide"
    }
   },
   "source": [
    "## Research\n",
    " \n",
    "\n",
    "### Reference\n"
   ]
  },
  {
   "cell_type": "markdown",
   "metadata": {},
   "source": [
    "## Jupyter Config"
   ]
  },
  {
   "cell_type": "code",
   "execution_count": 1,
   "metadata": {
    "scrolled": true,
    "slideshow": {
     "slide_type": "skip"
    }
   },
   "outputs": [
    {
     "data": {
      "text/html": [
       "<style>.container { width:100% !important; }</style>"
      ]
     },
     "metadata": {},
     "output_type": "display_data"
    }
   ],
   "source": [
    "# Expand cell width to 100% browser width for Jupyter notebook\n",
    "display(\"text/html\", \"<style>.container { width:100% !important; }</style>\")"
   ]
  },
  {
   "cell_type": "markdown",
   "metadata": {
    "slideshow": {
     "slide_type": "skip"
    }
   },
   "source": [
    "<img src=\"img/julia.png\" width=\"10%\" align=\"left\">\n",
    "\n",
    "## Julia Environment Configuration"
   ]
  },
  {
   "cell_type": "code",
   "execution_count": 2,
   "metadata": {
    "scrolled": false,
    "slideshow": {
     "slide_type": "skip"
    }
   },
   "outputs": [],
   "source": [
    "using Pkg;"
   ]
  },
  {
   "cell_type": "code",
   "execution_count": 3,
   "metadata": {
    "scrolled": false,
    "slideshow": {
     "slide_type": "skip"
    }
   },
   "outputs": [
    {
     "data": {
      "text/plain": [
       "\"/home/dhughes/myr/glm/Project.toml\""
      ]
     },
     "execution_count": 3,
     "metadata": {},
     "output_type": "execute_result"
    }
   ],
   "source": [
    "Pkg.activate(\"../\")"
   ]
  },
  {
   "cell_type": "code",
   "execution_count": 4,
   "metadata": {
    "scrolled": true,
    "slideshow": {
     "slide_type": "skip"
    }
   },
   "outputs": [
    {
     "name": "stdout",
     "output_type": "stream",
     "text": [
      "\u001b[32m\u001b[1m    Status\u001b[22m\u001b[39m `~/myr/glm/Project.toml`\n",
      " \u001b[90m [4f1ea46c]\u001b[39m\u001b[37m   AWSCore v0.6.0\u001b[39m\n",
      " \u001b[90m [0d499d91]\u001b[39m\u001b[37m   AWSSDK v0.4.0\u001b[39m\n",
      " \u001b[90m [336ed68f]\u001b[39m\u001b[37m   CSV v0.4.3\u001b[39m\n",
      " \u001b[90m [a93c6f00]\u001b[39m\u001b[37m   DataFrames v0.17.1\u001b[39m\n",
      " \u001b[90m [5721bf48]\u001b[39m\u001b[92m + DataVoyager v0.3.1\u001b[39m\n",
      " \u001b[90m [38e38edf]\u001b[39m\u001b[37m   GLM v1.1.1\u001b[39m\n",
      " \u001b[90m [ce6b1742]\u001b[39m\u001b[92m + RDatasets v0.6.1\u001b[39m\n",
      " \u001b[90m [f3b207a7]\u001b[39m\u001b[37m   StatsPlots v0.10.2\u001b[39m\n"
     ]
    }
   ],
   "source": [
    "Pkg.status()"
   ]
  },
  {
   "cell_type": "code",
   "execution_count": 5,
   "metadata": {
    "scrolled": false,
    "slideshow": {
     "slide_type": "skip"
    }
   },
   "outputs": [],
   "source": [
    "using CSV;\n",
    "using GLM;\n",
    "using RDatasets;\n",
    "using AWSCore;\n",
    "using AWSSDK.S3;\n",
    "using StatsPlots;\n",
    "using DataFrames;"
   ]
  },
  {
   "cell_type": "code",
   "execution_count": 6,
   "metadata": {
    "scrolled": true,
    "slideshow": {
     "slide_type": "skip"
    }
   },
   "outputs": [],
   "source": [
    "# Plotting Constant\n",
    "const plt = StatsPlots;"
   ]
  },
  {
   "cell_type": "code",
   "execution_count": 7,
   "metadata": {
    "scrolled": false,
    "slideshow": {
     "slide_type": "skip"
    }
   },
   "outputs": [],
   "source": [
    "# Set plotting backend\n",
    "#pyplot();"
   ]
  },
  {
   "cell_type": "markdown",
   "metadata": {
    "slideshow": {
     "slide_type": "skip"
    }
   },
   "source": [
    "## Data Acquistion"
   ]
  },
  {
   "cell_type": "code",
   "execution_count": 8,
   "metadata": {},
   "outputs": [],
   "source": [
    "LifeCycleSavings = dataset(\"datasets\", \"LifeCycleSavings\");"
   ]
  },
  {
   "cell_type": "markdown",
   "metadata": {
    "slideshow": {
     "slide_type": "skip"
    }
   },
   "source": [
    "## Data Engineering"
   ]
  },
  {
   "cell_type": "markdown",
   "metadata": {
    "slideshow": {
     "slide_type": "slide"
    },
    "tags": [
     "PHI"
    ]
   },
   "source": [
    "## EDA (Exploratory Data Analysis)"
   ]
  },
  {
   "cell_type": "code",
   "execution_count": 9,
   "metadata": {
    "scrolled": false,
    "slideshow": {
     "slide_type": "skip"
    },
    "tags": [
     "PHI"
    ]
   },
   "outputs": [
    {
     "data": {
      "text/html": [
       "<table class=\"data-frame\"><thead><tr><th></th><th>Country</th><th>SR</th><th>Pop15</th><th>Pop75</th><th>DPI</th><th>DDPI</th></tr><tr><th></th><th>String⍰</th><th>Float64⍰</th><th>Float64⍰</th><th>Float64⍰</th><th>Float64⍰</th><th>Float64⍰</th></tr></thead><tbody><p>3 rows × 6 columns</p><tr><th>1</th><td>Australia</td><td>11.43</td><td>29.35</td><td>2.87</td><td>2329.68</td><td>2.87</td></tr><tr><th>2</th><td>Austria</td><td>12.07</td><td>23.32</td><td>4.41</td><td>1507.99</td><td>3.93</td></tr><tr><th>3</th><td>Belgium</td><td>13.17</td><td>23.8</td><td>4.43</td><td>2108.47</td><td>3.82</td></tr></tbody></table>"
      ],
      "text/latex": [
       "\\begin{tabular}{r|cccccc}\n",
       "\t& Country & SR & Pop15 & Pop75 & DPI & DDPI\\\\\n",
       "\t\\hline\n",
       "\t& String⍰ & Float64⍰ & Float64⍰ & Float64⍰ & Float64⍰ & Float64⍰\\\\\n",
       "\t\\hline\n",
       "\t1 & Australia & 11.43 & 29.35 & 2.87 & 2329.68 & 2.87 \\\\\n",
       "\t2 & Austria & 12.07 & 23.32 & 4.41 & 1507.99 & 3.93 \\\\\n",
       "\t3 & Belgium & 13.17 & 23.8 & 4.43 & 2108.47 & 3.82 \\\\\n",
       "\\end{tabular}\n"
      ],
      "text/plain": [
       "3×6 DataFrame\n",
       "│ Row │ Country   │ SR       │ Pop15    │ Pop75    │ DPI      │ DDPI     │\n",
       "│     │ \u001b[90mString⍰\u001b[39m   │ \u001b[90mFloat64⍰\u001b[39m │ \u001b[90mFloat64⍰\u001b[39m │ \u001b[90mFloat64⍰\u001b[39m │ \u001b[90mFloat64⍰\u001b[39m │ \u001b[90mFloat64⍰\u001b[39m │\n",
       "├─────┼───────────┼──────────┼──────────┼──────────┼──────────┼──────────┤\n",
       "│ 1   │ Australia │ 11.43    │ 29.35    │ 2.87     │ 2329.68  │ 2.87     │\n",
       "│ 2   │ Austria   │ 12.07    │ 23.32    │ 4.41     │ 1507.99  │ 3.93     │\n",
       "│ 3   │ Belgium   │ 13.17    │ 23.8     │ 4.43     │ 2108.47  │ 3.82     │"
      ]
     },
     "execution_count": 9,
     "metadata": {},
     "output_type": "execute_result"
    }
   ],
   "source": [
    "first(LifeCycleSavings, 3)"
   ]
  },
  {
   "cell_type": "code",
   "execution_count": 10,
   "metadata": {
    "scrolled": false,
    "slideshow": {
     "slide_type": "skip"
    }
   },
   "outputs": [
    {
     "data": {
      "text/html": [
       "<table class=\"data-frame\"><thead><tr><th></th><th>Country</th><th>SR</th><th>Pop15</th><th>Pop75</th><th>DPI</th><th>DDPI</th></tr><tr><th></th><th>String⍰</th><th>Float64⍰</th><th>Float64⍰</th><th>Float64⍰</th><th>Float64⍰</th><th>Float64⍰</th></tr></thead><tbody><p>3 rows × 6 columns</p><tr><th>1</th><td>Uruguay</td><td>9.24</td><td>28.13</td><td>2.72</td><td>766.54</td><td>1.88</td></tr><tr><th>2</th><td>Libya</td><td>8.89</td><td>43.69</td><td>2.07</td><td>123.58</td><td>16.71</td></tr><tr><th>3</th><td>Malaysia</td><td>4.71</td><td>47.2</td><td>0.66</td><td>242.69</td><td>5.08</td></tr></tbody></table>"
      ],
      "text/latex": [
       "\\begin{tabular}{r|cccccc}\n",
       "\t& Country & SR & Pop15 & Pop75 & DPI & DDPI\\\\\n",
       "\t\\hline\n",
       "\t& String⍰ & Float64⍰ & Float64⍰ & Float64⍰ & Float64⍰ & Float64⍰\\\\\n",
       "\t\\hline\n",
       "\t1 & Uruguay & 9.24 & 28.13 & 2.72 & 766.54 & 1.88 \\\\\n",
       "\t2 & Libya & 8.89 & 43.69 & 2.07 & 123.58 & 16.71 \\\\\n",
       "\t3 & Malaysia & 4.71 & 47.2 & 0.66 & 242.69 & 5.08 \\\\\n",
       "\\end{tabular}\n"
      ],
      "text/plain": [
       "3×6 DataFrame\n",
       "│ Row │ Country  │ SR       │ Pop15    │ Pop75    │ DPI      │ DDPI     │\n",
       "│     │ \u001b[90mString⍰\u001b[39m  │ \u001b[90mFloat64⍰\u001b[39m │ \u001b[90mFloat64⍰\u001b[39m │ \u001b[90mFloat64⍰\u001b[39m │ \u001b[90mFloat64⍰\u001b[39m │ \u001b[90mFloat64⍰\u001b[39m │\n",
       "├─────┼──────────┼──────────┼──────────┼──────────┼──────────┼──────────┤\n",
       "│ 1   │ Uruguay  │ 9.24     │ 28.13    │ 2.72     │ 766.54   │ 1.88     │\n",
       "│ 2   │ Libya    │ 8.89     │ 43.69    │ 2.07     │ 123.58   │ 16.71    │\n",
       "│ 3   │ Malaysia │ 4.71     │ 47.2     │ 0.66     │ 242.69   │ 5.08     │"
      ]
     },
     "execution_count": 10,
     "metadata": {},
     "output_type": "execute_result"
    }
   ],
   "source": [
    "last(LifeCycleSavings, 3)"
   ]
  },
  {
   "cell_type": "code",
   "execution_count": 11,
   "metadata": {
    "scrolled": true,
    "slideshow": {
     "slide_type": "skip"
    }
   },
   "outputs": [
    {
     "data": {
      "text/plain": [
       "6-element Array{Symbol,1}:\n",
       " :Country\n",
       " :SR     \n",
       " :Pop15  \n",
       " :Pop75  \n",
       " :DPI    \n",
       " :DDPI   "
      ]
     },
     "execution_count": 11,
     "metadata": {},
     "output_type": "execute_result"
    }
   ],
   "source": [
    "names(LifeCycleSavings)"
   ]
  },
  {
   "cell_type": "code",
   "execution_count": 12,
   "metadata": {
    "scrolled": false,
    "slideshow": {
     "slide_type": "skip"
    }
   },
   "outputs": [
    {
     "data": {
      "text/html": [
       "<table class=\"data-frame\"><thead><tr><th></th><th>variable</th><th>mean</th><th>min</th><th>median</th><th>max</th><th>nunique</th><th>nmissing</th><th>eltype</th></tr><tr><th></th><th>Symbol</th><th>Union…</th><th>Any</th><th>Union…</th><th>Any</th><th>Union…</th><th>Int64</th><th>DataType</th></tr></thead><tbody><p>6 rows × 8 columns</p><tr><th>1</th><td>Country</td><td></td><td>Australia</td><td></td><td>Zambia</td><td>50</td><td>0</td><td>String</td></tr><tr><th>2</th><td>SR</td><td>9.671</td><td>0.6</td><td>10.51</td><td>21.1</td><td></td><td>0</td><td>Float64</td></tr><tr><th>3</th><td>Pop15</td><td>35.0896</td><td>21.44</td><td>32.575</td><td>47.64</td><td></td><td>0</td><td>Float64</td></tr><tr><th>4</th><td>Pop75</td><td>2.293</td><td>0.56</td><td>2.175</td><td>4.7</td><td></td><td>0</td><td>Float64</td></tr><tr><th>5</th><td>DPI</td><td>1106.76</td><td>88.94</td><td>695.665</td><td>4001.89</td><td></td><td>0</td><td>Float64</td></tr><tr><th>6</th><td>DDPI</td><td>3.7576</td><td>0.22</td><td>3.0</td><td>16.71</td><td></td><td>0</td><td>Float64</td></tr></tbody></table>"
      ],
      "text/latex": [
       "\\begin{tabular}{r|cccccccc}\n",
       "\t& variable & mean & min & median & max & nunique & nmissing & eltype\\\\\n",
       "\t\\hline\n",
       "\t& Symbol & Union… & Any & Union… & Any & Union… & Int64 & DataType\\\\\n",
       "\t\\hline\n",
       "\t1 & Country &  & Australia &  & Zambia & 50 & 0 & String \\\\\n",
       "\t2 & SR & 9.671 & 0.6 & 10.51 & 21.1 &  & 0 & Float64 \\\\\n",
       "\t3 & Pop15 & 35.0896 & 21.44 & 32.575 & 47.64 &  & 0 & Float64 \\\\\n",
       "\t4 & Pop75 & 2.293 & 0.56 & 2.175 & 4.7 &  & 0 & Float64 \\\\\n",
       "\t5 & DPI & 1106.76 & 88.94 & 695.665 & 4001.89 &  & 0 & Float64 \\\\\n",
       "\t6 & DDPI & 3.7576 & 0.22 & 3.0 & 16.71 &  & 0 & Float64 \\\\\n",
       "\\end{tabular}\n"
      ],
      "text/plain": [
       "6×8 DataFrame. Omitted printing of 2 columns\n",
       "│ Row │ variable │ mean    │ min       │ median  │ max     │ nunique │\n",
       "│     │ \u001b[90mSymbol\u001b[39m   │ \u001b[90mUnion…\u001b[39m  │ \u001b[90mAny\u001b[39m       │ \u001b[90mUnion…\u001b[39m  │ \u001b[90mAny\u001b[39m     │ \u001b[90mUnion…\u001b[39m  │\n",
       "├─────┼──────────┼─────────┼───────────┼─────────┼─────────┼─────────┤\n",
       "│ 1   │ Country  │         │ Australia │         │ Zambia  │ 50      │\n",
       "│ 2   │ SR       │ 9.671   │ 0.6       │ 10.51   │ 21.1    │         │\n",
       "│ 3   │ Pop15    │ 35.0896 │ 21.44     │ 32.575  │ 47.64   │         │\n",
       "│ 4   │ Pop75    │ 2.293   │ 0.56      │ 2.175   │ 4.7     │         │\n",
       "│ 5   │ DPI      │ 1106.76 │ 88.94     │ 695.665 │ 4001.89 │         │\n",
       "│ 6   │ DDPI     │ 3.7576  │ 0.22      │ 3.0     │ 16.71   │         │"
      ]
     },
     "execution_count": 12,
     "metadata": {},
     "output_type": "execute_result"
    }
   ],
   "source": [
    "describe(LifeCycleSavings)"
   ]
  },
  {
   "cell_type": "code",
   "execution_count": 13,
   "metadata": {
    "scrolled": false,
    "slideshow": {
     "slide_type": "slide"
    }
   },
   "outputs": [
    {
     "name": "stdout",
     "output_type": "stream",
     "text": [
      "Rows:\t 50 \n",
      "Columns: 6\n"
     ]
    }
   ],
   "source": [
    "# Shape of DataFrame\n",
    "LifeCycleSavings_size = size(LifeCycleSavings)\n",
    "println(\"Rows:\\t $(LifeCycleSavings_size[1]) \\nColumns: $(LifeCycleSavings_size[2])\")"
   ]
  },
  {
   "cell_type": "code",
   "execution_count": 14,
   "metadata": {
    "scrolled": false
   },
   "outputs": [
    {
     "data": {
      "image/svg+xml": [
       "<?xml version=\"1.0\" encoding=\"utf-8\"?>\n",
       "<svg xmlns=\"http://www.w3.org/2000/svg\" xmlns:xlink=\"http://www.w3.org/1999/xlink\" width=\"600\" height=\"400\" viewBox=\"0 0 2400 1600\">\n",
       "<defs>\n",
       "  <clipPath id=\"clip5200\">\n",
       "    <rect x=\"0\" y=\"0\" width=\"2000\" height=\"2000\"/>\n",
       "  </clipPath>\n",
       "</defs>\n",
       "<defs>\n",
       "  <clipPath id=\"clip5201\">\n",
       "    <rect x=\"0\" y=\"0\" width=\"2400\" height=\"1600\"/>\n",
       "  </clipPath>\n",
       "</defs>\n",
       "<polygon clip-path=\"url(#clip5201)\" points=\"\n",
       "0,1600 2400,1600 2400,0 0,0 \n",
       "  \" fill=\"#ffffff\" fill-rule=\"evenodd\" fill-opacity=\"1\"/>\n",
       "<defs>\n",
       "  <clipPath id=\"clip5202\">\n",
       "    <rect x=\"480\" y=\"0\" width=\"1681\" height=\"1600\"/>\n",
       "  </clipPath>\n",
       "</defs>\n",
       "<polygon clip-path=\"url(#clip5201)\" points=\"\n",
       "148.013,1503.47 2321.26,1503.47 2321.26,47.2441 148.013,47.2441 \n",
       "  \" fill=\"#ffffff\" fill-rule=\"evenodd\" fill-opacity=\"1\"/>\n",
       "<defs>\n",
       "  <clipPath id=\"clip5203\">\n",
       "    <rect x=\"148\" y=\"47\" width=\"2174\" height=\"1457\"/>\n",
       "  </clipPath>\n",
       "</defs>\n",
       "<polyline clip-path=\"url(#clip5203)\" style=\"stroke:#000000; stroke-width:2; stroke-opacity:0.1; fill:none\" points=\"\n",
       "  267.545,1503.47 267.545,47.2441 \n",
       "  \"/>\n",
       "<polyline clip-path=\"url(#clip5203)\" style=\"stroke:#000000; stroke-width:2; stroke-opacity:0.1; fill:none\" points=\"\n",
       "  654.382,1503.47 654.382,47.2441 \n",
       "  \"/>\n",
       "<polyline clip-path=\"url(#clip5203)\" style=\"stroke:#000000; stroke-width:2; stroke-opacity:0.1; fill:none\" points=\"\n",
       "  1041.22,1503.47 1041.22,47.2441 \n",
       "  \"/>\n",
       "<polyline clip-path=\"url(#clip5203)\" style=\"stroke:#000000; stroke-width:2; stroke-opacity:0.1; fill:none\" points=\"\n",
       "  1428.05,1503.47 1428.05,47.2441 \n",
       "  \"/>\n",
       "<polyline clip-path=\"url(#clip5203)\" style=\"stroke:#000000; stroke-width:2; stroke-opacity:0.1; fill:none\" points=\"\n",
       "  1814.89,1503.47 1814.89,47.2441 \n",
       "  \"/>\n",
       "<polyline clip-path=\"url(#clip5203)\" style=\"stroke:#000000; stroke-width:2; stroke-opacity:0.1; fill:none\" points=\"\n",
       "  2201.73,1503.47 2201.73,47.2441 \n",
       "  \"/>\n",
       "<polyline clip-path=\"url(#clip5203)\" style=\"stroke:#000000; stroke-width:2; stroke-opacity:0.1; fill:none\" points=\"\n",
       "  148.013,1462.26 2321.26,1462.26 \n",
       "  \"/>\n",
       "<polyline clip-path=\"url(#clip5203)\" style=\"stroke:#000000; stroke-width:2; stroke-opacity:0.1; fill:none\" points=\"\n",
       "  148.013,1004.33 2321.26,1004.33 \n",
       "  \"/>\n",
       "<polyline clip-path=\"url(#clip5203)\" style=\"stroke:#000000; stroke-width:2; stroke-opacity:0.1; fill:none\" points=\"\n",
       "  148.013,546.392 2321.26,546.392 \n",
       "  \"/>\n",
       "<polyline clip-path=\"url(#clip5203)\" style=\"stroke:#000000; stroke-width:2; stroke-opacity:0.1; fill:none\" points=\"\n",
       "  148.013,88.4582 2321.26,88.4582 \n",
       "  \"/>\n",
       "<polyline clip-path=\"url(#clip5201)\" style=\"stroke:#000000; stroke-width:4; stroke-opacity:1; fill:none\" points=\"\n",
       "  148.013,1503.47 2321.26,1503.47 \n",
       "  \"/>\n",
       "<polyline clip-path=\"url(#clip5201)\" style=\"stroke:#000000; stroke-width:4; stroke-opacity:1; fill:none\" points=\"\n",
       "  148.013,1503.47 148.013,47.2441 \n",
       "  \"/>\n",
       "<polyline clip-path=\"url(#clip5201)\" style=\"stroke:#000000; stroke-width:4; stroke-opacity:1; fill:none\" points=\"\n",
       "  267.545,1503.47 267.545,1481.63 \n",
       "  \"/>\n",
       "<polyline clip-path=\"url(#clip5201)\" style=\"stroke:#000000; stroke-width:4; stroke-opacity:1; fill:none\" points=\"\n",
       "  654.382,1503.47 654.382,1481.63 \n",
       "  \"/>\n",
       "<polyline clip-path=\"url(#clip5201)\" style=\"stroke:#000000; stroke-width:4; stroke-opacity:1; fill:none\" points=\"\n",
       "  1041.22,1503.47 1041.22,1481.63 \n",
       "  \"/>\n",
       "<polyline clip-path=\"url(#clip5201)\" style=\"stroke:#000000; stroke-width:4; stroke-opacity:1; fill:none\" points=\"\n",
       "  1428.05,1503.47 1428.05,1481.63 \n",
       "  \"/>\n",
       "<polyline clip-path=\"url(#clip5201)\" style=\"stroke:#000000; stroke-width:4; stroke-opacity:1; fill:none\" points=\"\n",
       "  1814.89,1503.47 1814.89,1481.63 \n",
       "  \"/>\n",
       "<polyline clip-path=\"url(#clip5201)\" style=\"stroke:#000000; stroke-width:4; stroke-opacity:1; fill:none\" points=\"\n",
       "  2201.73,1503.47 2201.73,1481.63 \n",
       "  \"/>\n",
       "<polyline clip-path=\"url(#clip5201)\" style=\"stroke:#000000; stroke-width:4; stroke-opacity:1; fill:none\" points=\"\n",
       "  148.013,1462.26 180.612,1462.26 \n",
       "  \"/>\n",
       "<polyline clip-path=\"url(#clip5201)\" style=\"stroke:#000000; stroke-width:4; stroke-opacity:1; fill:none\" points=\"\n",
       "  148.013,1004.33 180.612,1004.33 \n",
       "  \"/>\n",
       "<polyline clip-path=\"url(#clip5201)\" style=\"stroke:#000000; stroke-width:4; stroke-opacity:1; fill:none\" points=\"\n",
       "  148.013,546.392 180.612,546.392 \n",
       "  \"/>\n",
       "<polyline clip-path=\"url(#clip5201)\" style=\"stroke:#000000; stroke-width:4; stroke-opacity:1; fill:none\" points=\"\n",
       "  148.013,88.4582 180.612,88.4582 \n",
       "  \"/>\n",
       "<g clip-path=\"url(#clip5201)\">\n",
       "<text style=\"fill:#000000; fill-opacity:1; font-family:Arial,Helvetica Neue,Helvetica,sans-serif; font-size:48px; text-anchor:middle;\" transform=\"rotate(0, 267.545, 1557.47)\" x=\"267.545\" y=\"1557.47\">0</text>\n",
       "</g>\n",
       "<g clip-path=\"url(#clip5201)\">\n",
       "<text style=\"fill:#000000; fill-opacity:1; font-family:Arial,Helvetica Neue,Helvetica,sans-serif; font-size:48px; text-anchor:middle;\" transform=\"rotate(0, 654.382, 1557.47)\" x=\"654.382\" y=\"1557.47\">1</text>\n",
       "</g>\n",
       "<g clip-path=\"url(#clip5201)\">\n",
       "<text style=\"fill:#000000; fill-opacity:1; font-family:Arial,Helvetica Neue,Helvetica,sans-serif; font-size:48px; text-anchor:middle;\" transform=\"rotate(0, 1041.22, 1557.47)\" x=\"1041.22\" y=\"1557.47\">2</text>\n",
       "</g>\n",
       "<g clip-path=\"url(#clip5201)\">\n",
       "<text style=\"fill:#000000; fill-opacity:1; font-family:Arial,Helvetica Neue,Helvetica,sans-serif; font-size:48px; text-anchor:middle;\" transform=\"rotate(0, 1428.05, 1557.47)\" x=\"1428.05\" y=\"1557.47\">3</text>\n",
       "</g>\n",
       "<g clip-path=\"url(#clip5201)\">\n",
       "<text style=\"fill:#000000; fill-opacity:1; font-family:Arial,Helvetica Neue,Helvetica,sans-serif; font-size:48px; text-anchor:middle;\" transform=\"rotate(0, 1814.89, 1557.47)\" x=\"1814.89\" y=\"1557.47\">4</text>\n",
       "</g>\n",
       "<g clip-path=\"url(#clip5201)\">\n",
       "<text style=\"fill:#000000; fill-opacity:1; font-family:Arial,Helvetica Neue,Helvetica,sans-serif; font-size:48px; text-anchor:middle;\" transform=\"rotate(0, 2201.73, 1557.47)\" x=\"2201.73\" y=\"1557.47\">5</text>\n",
       "</g>\n",
       "<g clip-path=\"url(#clip5201)\">\n",
       "<text style=\"fill:#000000; fill-opacity:1; font-family:Arial,Helvetica Neue,Helvetica,sans-serif; font-size:48px; text-anchor:end;\" transform=\"rotate(0, 124.013, 1479.76)\" x=\"124.013\" y=\"1479.76\">0</text>\n",
       "</g>\n",
       "<g clip-path=\"url(#clip5201)\">\n",
       "<text style=\"fill:#000000; fill-opacity:1; font-family:Arial,Helvetica Neue,Helvetica,sans-serif; font-size:48px; text-anchor:end;\" transform=\"rotate(0, 124.013, 1021.83)\" x=\"124.013\" y=\"1021.83\">5</text>\n",
       "</g>\n",
       "<g clip-path=\"url(#clip5201)\">\n",
       "<text style=\"fill:#000000; fill-opacity:1; font-family:Arial,Helvetica Neue,Helvetica,sans-serif; font-size:48px; text-anchor:end;\" transform=\"rotate(0, 124.013, 563.892)\" x=\"124.013\" y=\"563.892\">10</text>\n",
       "</g>\n",
       "<g clip-path=\"url(#clip5201)\">\n",
       "<text style=\"fill:#000000; fill-opacity:1; font-family:Arial,Helvetica Neue,Helvetica,sans-serif; font-size:48px; text-anchor:end;\" transform=\"rotate(0, 124.013, 105.958)\" x=\"124.013\" y=\"105.958\">15</text>\n",
       "</g>\n",
       "<polygon clip-path=\"url(#clip5203)\" points=\"\n",
       "267.545,637.979 267.545,1462.26 654.382,1462.26 654.382,637.979 267.545,637.979 267.545,637.979 \n",
       "  \" fill=\"#009af9\" fill-rule=\"evenodd\" fill-opacity=\"1\"/>\n",
       "<polyline clip-path=\"url(#clip5203)\" style=\"stroke:#000000; stroke-width:4; stroke-opacity:1; fill:none\" points=\"\n",
       "  267.545,637.979 267.545,1462.26 654.382,1462.26 654.382,637.979 267.545,637.979 \n",
       "  \"/>\n",
       "<polygon clip-path=\"url(#clip5203)\" points=\"\n",
       "654.382,88.4582 654.382,1462.26 1041.22,1462.26 1041.22,88.4582 654.382,88.4582 654.382,88.4582 \n",
       "  \" fill=\"#009af9\" fill-rule=\"evenodd\" fill-opacity=\"1\"/>\n",
       "<polyline clip-path=\"url(#clip5203)\" style=\"stroke:#000000; stroke-width:4; stroke-opacity:1; fill:none\" points=\"\n",
       "  654.382,88.4582 654.382,1462.26 1041.22,1462.26 1041.22,88.4582 654.382,88.4582 \n",
       "  \"/>\n",
       "<polygon clip-path=\"url(#clip5203)\" points=\"\n",
       "1041.22,637.979 1041.22,1462.26 1428.05,1462.26 1428.05,637.979 1041.22,637.979 1041.22,637.979 \n",
       "  \" fill=\"#009af9\" fill-rule=\"evenodd\" fill-opacity=\"1\"/>\n",
       "<polyline clip-path=\"url(#clip5203)\" style=\"stroke:#000000; stroke-width:4; stroke-opacity:1; fill:none\" points=\"\n",
       "  1041.22,637.979 1041.22,1462.26 1428.05,1462.26 1428.05,637.979 1041.22,637.979 \n",
       "  \"/>\n",
       "<polygon clip-path=\"url(#clip5203)\" points=\"\n",
       "1428.05,454.805 1428.05,1462.26 1814.89,1462.26 1814.89,454.805 1428.05,454.805 1428.05,454.805 \n",
       "  \" fill=\"#009af9\" fill-rule=\"evenodd\" fill-opacity=\"1\"/>\n",
       "<polyline clip-path=\"url(#clip5203)\" style=\"stroke:#000000; stroke-width:4; stroke-opacity:1; fill:none\" points=\"\n",
       "  1428.05,454.805 1428.05,1462.26 1814.89,1462.26 1814.89,454.805 1428.05,454.805 \n",
       "  \"/>\n",
       "<polygon clip-path=\"url(#clip5203)\" points=\"\n",
       "1814.89,912.74 1814.89,1462.26 2201.73,1462.26 2201.73,912.74 1814.89,912.74 1814.89,912.74 \n",
       "  \" fill=\"#009af9\" fill-rule=\"evenodd\" fill-opacity=\"1\"/>\n",
       "<polyline clip-path=\"url(#clip5203)\" style=\"stroke:#000000; stroke-width:4; stroke-opacity:1; fill:none\" points=\"\n",
       "  1814.89,912.74 1814.89,1462.26 2201.73,1462.26 2201.73,912.74 1814.89,912.74 \n",
       "  \"/>\n",
       "<polygon clip-path=\"url(#clip5201)\" points=\"\n",
       "1958.43,251.724 2249.26,251.724 2249.26,130.764 1958.43,130.764 \n",
       "  \" fill=\"#ffffff\" fill-rule=\"evenodd\" fill-opacity=\"1\"/>\n",
       "<polyline clip-path=\"url(#clip5201)\" style=\"stroke:#000000; stroke-width:4; stroke-opacity:1; fill:none\" points=\"\n",
       "  1958.43,251.724 2249.26,251.724 2249.26,130.764 1958.43,130.764 1958.43,251.724 \n",
       "  \"/>\n",
       "<polygon clip-path=\"url(#clip5201)\" points=\"\n",
       "1982.43,215.436 2126.43,215.436 2126.43,167.052 1982.43,167.052 1982.43,215.436 \n",
       "  \" fill=\"#009af9\" fill-rule=\"evenodd\" fill-opacity=\"1\"/>\n",
       "<polyline clip-path=\"url(#clip5201)\" style=\"stroke:#000000; stroke-width:4; stroke-opacity:1; fill:none\" points=\"\n",
       "  1982.43,215.436 2126.43,215.436 2126.43,167.052 1982.43,167.052 1982.43,215.436 \n",
       "  \"/>\n",
       "<g clip-path=\"url(#clip5201)\">\n",
       "<text style=\"fill:#000000; fill-opacity:1; font-family:Arial,Helvetica Neue,Helvetica,sans-serif; font-size:48px; text-anchor:start;\" transform=\"rotate(0, 2150.43, 208.744)\" x=\"2150.43\" y=\"208.744\">y1</text>\n",
       "</g>\n",
       "</svg>\n"
      ]
     },
     "execution_count": 14,
     "metadata": {},
     "output_type": "execute_result"
    }
   ],
   "source": [
    "histogram(LifeCycleSavings.Pop75)"
   ]
  },
  {
   "cell_type": "markdown",
   "metadata": {},
   "source": [
    "## Modeling"
   ]
  },
  {
   "cell_type": "code",
   "execution_count": 15,
   "metadata": {
    "scrolled": true
   },
   "outputs": [
    {
     "data": {
      "text/plain": [
       "StatsModels.DataFrameRegressionModel{LinearModel{LmResp{Array{Float64,1}},DensePredChol{Float64,LinearAlgebra.Cholesky{Float64,Array{Float64,2}}}},Array{Float64,2}}\n",
       "\n",
       "Formula: SR ~ 1 + Pop15 + Pop75 + DPI + DDPI\n",
       "\n",
       "Coefficients:\n",
       "                 Estimate   Std.Error   t value Pr(>|t|)\n",
       "(Intercept)       28.5661     7.35452   3.88416   0.0003\n",
       "Pop15           -0.461193    0.144642  -3.18851   0.0026\n",
       "Pop75             -1.6915      1.0836    -1.561   0.1255\n",
       "DPI          -0.000336902 0.000931107 -0.361829   0.7192\n",
       "DDPI             0.409695    0.196197   2.08818   0.0425\n"
      ]
     },
     "execution_count": 15,
     "metadata": {},
     "output_type": "execute_result"
    }
   ],
   "source": [
    "fm2 = fit(LinearModel, @formula(SR ~ Pop15 + Pop75 + DPI + DDPI), LifeCycleSavings)"
   ]
  },
  {
   "cell_type": "markdown",
   "metadata": {},
   "source": [
    "# Output"
   ]
  },
  {
   "cell_type": "code",
   "execution_count": null,
   "metadata": {},
   "outputs": [],
   "source": []
  }
 ],
 "metadata": {
  "celltoolbar": "Slideshow",
  "kernelspec": {
   "display_name": "Julia 1.0.2",
   "language": "julia",
   "name": "julia-1.0"
  },
  "language_info": {
   "file_extension": ".jl",
   "mimetype": "application/julia",
   "name": "julia",
   "version": "1.0.2"
  }
 },
 "nbformat": 4,
 "nbformat_minor": 2
}
